{
 "cells": [
  {
   "cell_type": "code",
   "execution_count": 106,
   "metadata": {},
   "outputs": [],
   "source": [
    "# Author - Ritvik Khanna \n",
    "# Date - 04/05/18 \n",
    "# Version - 2.3\n",
    "\n",
    "\n",
    "import numpy as np\n",
    "import pandas as pd\n",
    "from sklearn.cross_validation import train_test_split\n",
    "from sklearn.tree import DecisionTreeClassifier\n",
    "from sklearn.metrics import accuracy_score\n",
    "from sklearn import tree\n",
    "from sklearn import preprocessing\n",
    "from sklearn.preprocessing import StandardScaler\n",
    "from sklearn.metrics import classification_report\n",
    "from sklearn.ensemble import RandomForestClassifier\n",
    "\n",
    "# import os\n",
    "# print(os.listdir(\"../input\"))\n",
    "# Load dataset\n",
    "df = pd.read_csv(\"dataset/heart.csv\")\n",
    "# df.head(10)\n",
    "\n",
    "\n",
    "\n",
    "# \"\"\"\n",
    "# age         age in years\n",
    "# sex         (1 = male; 0 = female)\n",
    "# cp          chest pain type\n",
    "# trestbps    resting blood pressure (in mm Hg on admission to the hospital)\n",
    "# chol        serum cholestoral in mg/dl\n",
    "# fbs         (fasting blood sugar > 120 mg/dl) (1 = true; 0 = false)\n",
    "# restecg     resting electrocardiographic results\n",
    "# thalach     maximum heart rate achieved\n",
    "# exang       exercise induced angina (1 = yes; 0 = no)\n",
    "# oldpeak     ST depression induced by exercise relative to rest\n",
    "# slope       the slope of the peak exercise ST segment\n",
    "# ca          number of major vessels (0-3) colored by flourosopy\n",
    "# thal        3 = normal; 6 = fixed defect; 7 = reversable defect\n",
    "# target      1 or 0\n",
    "# \"\"\""
   ]
  },
  {
   "cell_type": "code",
   "execution_count": 107,
   "metadata": {},
   "outputs": [],
   "source": [
    "X = df.values[:, :13]\n",
    "Y = df.values[:,13]\n",
    "X_train, X_test, y_train, y_test = train_test_split( X, Y)"
   ]
  },
  {
   "cell_type": "code",
   "execution_count": 108,
   "metadata": {},
   "outputs": [
    {
     "name": "stdout",
     "output_type": "stream",
     "text": [
      "\n",
      "Accuracy is  81.57894736842105\n"
     ]
    }
   ],
   "source": [
    "from sklearn.preprocessing import StandardScaler\n",
    "sc = StandardScaler()\n",
    "X_train = sc.fit_transform(X_train)\n",
    "X_test = sc.transform(X_test)\n",
    "\n",
    "clf = RandomForestClassifier()\n",
    "clf.fit(X_train, y_train)\n",
    "y_pred= clf.predict(X_test)\n",
    "print (\"\\nAccuracy is \", accuracy_score(y_test,y_pred)*100)"
   ]
  },
  {
   "cell_type": "code",
   "execution_count": 105,
   "metadata": {},
   "outputs": [
    {
     "data": {
      "text/plain": [
       "['RandomForestClassifier_model.sav']"
      ]
     },
     "execution_count": 105,
     "metadata": {},
     "output_type": "execute_result"
    }
   ],
   "source": [
    "from sklearn.externals import joblib\n",
    "filename = 'RandomForestClassifier_model.sav'\n",
    "joblib.dump(clf, filename)"
   ]
  },
  {
   "cell_type": "code",
   "execution_count": null,
   "metadata": {},
   "outputs": [],
   "source": []
  }
 ],
 "metadata": {
  "kernelspec": {
   "display_name": "Pytorch",
   "language": "python",
   "name": "pytorch"
  },
  "language_info": {
   "codemirror_mode": {
    "name": "ipython",
    "version": 3
   },
   "file_extension": ".py",
   "mimetype": "text/x-python",
   "name": "python",
   "nbconvert_exporter": "python",
   "pygments_lexer": "ipython3",
   "version": "3.6.5"
  }
 },
 "nbformat": 4,
 "nbformat_minor": 2
}
